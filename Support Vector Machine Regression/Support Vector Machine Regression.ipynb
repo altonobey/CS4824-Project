{
 "cells": [
  {
   "cell_type": "code",
   "execution_count": null,
   "metadata": {},
   "outputs": [
    {
     "name": "stdout",
     "output_type": "stream",
     "text": [
      "SVM\n"
     ]
    },
    {
     "name": "stderr",
     "output_type": "stream",
     "text": [
      "C:\\Users\\Ahmed\\Anaconda3\\lib\\site-packages\\sklearn\\utils\\validation.py:578: DataConversionWarning: A column-vector y was passed when a 1d array was expected. Please change the shape of y to (n_samples, ), for example using ravel().\n",
      "  y = column_or_1d(y, warn=True)\n"
     ]
    },
    {
     "name": "stdout",
     "output_type": "stream",
     "text": [
      "Accuracy = 62.617717478052676\n",
      "Accuracy = 63.415802075019954\n",
      "Accuracy = 62.93695131683958\n",
      "Accuracy = 63.06464485235435\n",
      "Accuracy = 62.53790901835595\n",
      "Accuracy = 62.60175578611333\n",
      "Accuracy = 63.38387869114126\n",
      "Accuracy = 62.92098962490024\n",
      "Accuracy = 63.01675977653631\n",
      "Accuracy = 62.5219473264166\n",
      "Accuracy = 62.49002394253791\n",
      "Accuracy = 63.47964884277734\n",
      "Accuracy = 63.28810853950519\n",
      "Accuracy = 63.12849162011173\n",
      "Accuracy = 63.2561851556265\n",
      "Accuracy = 62.53790901835595\n",
      "Accuracy = 63.17637669592977\n"
     ]
    }
   ],
   "source": [
    "from csv import reader\n",
    "from sklearn import svm\n",
    "import numpy as np\n",
    "import time\n",
    "\n",
    "# Read datasets from CSV input file\n",
    "def Read_file(file_name):\n",
    "    dataset = list()\n",
    "    with open(file_name, 'r', newline='',encoding='utf-8') as file:\n",
    "        csv_reader = reader(file)\n",
    "        for row in csv_reader:\n",
    "            if not row:\n",
    "                continue\n",
    "            dataset.append(row)\n",
    "    return dataset\n",
    "\n",
    "# Convert string columns to float in input dataset\n",
    "def str_column_to_float(dataset, column):\n",
    "    for row in dataset:\n",
    "        row[column] = float(row[column].strip())\n",
    "\n",
    "# Convert string column to integer in input dataset (last column with class value)\n",
    "def str_column_to_int(dataset, column):\n",
    "    class_values = [row[column] for row in dataset]\n",
    "    unique = set(class_values)\n",
    "    lookup = dict()\n",
    "    for i, value in enumerate(unique):\n",
    "        lookup[value] = i\n",
    "    for row in dataset:\n",
    "        row[column] = lookup[row[column]]\n",
    "    return lookup\n",
    "\n",
    "# Find the min and max values for each column\n",
    "def dataset_minmax(dataset):\n",
    "    stats = [[min(column), max(column)] for column in zip(*dataset)]\n",
    "    return stats\n",
    "\n",
    "# Rescale dataset columns to the range 0-1\n",
    "def normalize_dataset(dataset, minmax):\n",
    "    for row in dataset:\n",
    "        for i in range(len(row) - 1):\n",
    "            row[i] = (row[i] - minmax[i][0]) / (minmax[i][1] - minmax[i][0])\n",
    "\n",
    "\n",
    "start_time = time.time()\n",
    "\n",
    "# testdataset\n",
    "testdataset = Read_file('Data/SVM_Input.csv')\n",
    "test_target= Read_file('Data/SVM_Target.csv')\n",
    "\n",
    "n_epoch = 30\n",
    "w = 0\n",
    "r = 1\n",
    "runs = [0]*30\n",
    "print('SVM')\n",
    "for j in range(len(runs)):\n",
    "    # learning_rate = learning_rate + 0.05\n",
    "    # n_epoch = n_epoch + 4\n",
    "    r =  r + 400\n",
    "    if (r + 4000) > 6000:\n",
    "        r = w\n",
    "        w += 120\n",
    "    traindataset = [testdataset[i] for i in range(r, r + 4000)]\n",
    "    train_target = [test_target[i] for i in range(r, r + 4000)]\n",
    "    clf = svm.SVC(kernel=\"rbf\", decision_function_shape='ovo')\n",
    "    clf.fit(traindataset, train_target)\n",
    "\n",
    "    # test network\n",
    "    count = 0\n",
    "    total = 0\n",
    "    for i in range(0, len(testdataset)):\n",
    "        total += 1\n",
    "        temp = clf.predict([testdataset[i]])\n",
    "        if temp == test_target[i]:\n",
    "            count += 1\n",
    "    accuracy = count * 100 / total\n",
    "    print('Accuracy = %s' % accuracy)\n",
    "    runs[j] = accuracy\n",
    "\n",
    "mean = sum(runs)/len(runs)\n",
    "print(\"n_epoch: {}\".format(n_epoch))\n",
    "print(\"Mean_Accuracy: {}\".format(mean))\n",
    "print(\"Standard_Deviation: {}\".format(np.std(runs, 0)))\n",
    "time_taken = time.time() - start_time\n",
    "print(\"total_time : {}\".format(time_taken))"
   ]
  }
 ],
 "metadata": {
  "kernelspec": {
   "display_name": "Python 3",
   "language": "python",
   "name": "python3"
  },
  "language_info": {
   "codemirror_mode": {
    "name": "ipython",
    "version": 3
   },
   "file_extension": ".py",
   "mimetype": "text/x-python",
   "name": "python",
   "nbconvert_exporter": "python",
   "pygments_lexer": "ipython3",
   "version": "3.6.4"
  }
 },
 "nbformat": 4,
 "nbformat_minor": 2
}
