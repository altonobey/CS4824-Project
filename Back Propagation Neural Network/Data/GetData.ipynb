{
 "cells": [
  {
   "cell_type": "code",
   "execution_count": 5,
   "metadata": {},
   "outputs": [],
   "source": [
    "from pandas_datareader import data\n",
    "import pandas as pd\n",
    "\n",
    "\n",
    "# Define which online source one should use\n",
    "data_source = 'yahoo'\n",
    "\n",
    "# We would like all available data from 01/01/2014 until 12/31/2018.\n",
    "start_date = '2014-01-01'\n",
    "end_date = '2018-12-31'\n",
    "\n",
    "symbols = ['AAPL','AMZN','MSFT','GOOG','IBM', '^IXIC']\n",
    "\n",
    "\n",
    "for i in symbols:        \n",
    "    data.DataReader(i,data_source,start_date,end_date).to_csv('Original Data/' + i + '.csv')"
   ]
  }
 ],
 "metadata": {
  "kernelspec": {
   "display_name": "Python 3",
   "language": "python",
   "name": "python3"
  },
  "language_info": {
   "codemirror_mode": {
    "name": "ipython",
    "version": 3
   },
   "file_extension": ".py",
   "mimetype": "text/x-python",
   "name": "python",
   "nbconvert_exporter": "python",
   "pygments_lexer": "ipython3",
   "version": "3.6.4"
  }
 },
 "nbformat": 4,
 "nbformat_minor": 2
}
