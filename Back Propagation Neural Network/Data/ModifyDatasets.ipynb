{
 "cells": [
  {
   "cell_type": "code",
   "execution_count": 6,
   "metadata": {},
   "outputs": [],
   "source": [
    "import pandas as pd\n",
    "\n",
    "file = [\"AAPL.csv\", \"AMZN.csv\", \"GOOG.csv\", \"IBM.csv\", \"MSFT.csv\", \"^IXIC.csv\"] \n",
    "\n",
    "for file in file:\n",
    "    xl = pd.read_csv(\"Original Data/\" + file)\n",
    "    date = xl['Date']\n",
    "    Close = xl['Close']\n",
    "    AD_Position = Close.copy()\n",
    "    Change = [0]* len(date)\n",
    "    Momentum = [0]* len(date)\n",
    "\n",
    "    dates = [i.split(' ', 1)[0] for i in date]\n",
    "\n",
    "    reference = dates[0]\n",
    "\n",
    "\n",
    "    for i in range (1,len(date)):\n",
    "        if Close[i] > Close[i-1] :\n",
    "            Momentum[i] = \"1\"\n",
    "            Change[i] = (Close[i]-Close[i-1]) / Close[i-1]\n",
    "        else :\n",
    "            Momentum[i] = \"0\"\n",
    "            Change[i] = (Close[i-1] - Close[i]) / Close[i - 1]\n",
    "\n",
    "    xl = pd.DataFrame({'Date':date, 'Close':Close, 'Change':Change, 'Momentum':Momentum}) # a represents closing date b represents closing value c represents close change and d represents momentum\n",
    "\n",
    "    fileName = file.split('.')\n",
    "    \n",
    "    if fileName[0] == \"^IXIC\":\n",
    "        fileName[0] = \"NASDAQ\"\n",
    "        \n",
    "    xl.to_csv(\"Modified Data/\" + fileName[0] + \"_Modified.csv\", index=False, header=True)"
   ]
  }
 ],
 "metadata": {
  "kernelspec": {
   "display_name": "Python 3",
   "language": "python",
   "name": "python3"
  },
  "language_info": {
   "codemirror_mode": {
    "name": "ipython",
    "version": 3
   },
   "file_extension": ".py",
   "mimetype": "text/x-python",
   "name": "python",
   "nbconvert_exporter": "python",
   "pygments_lexer": "ipython3",
   "version": "3.6.4"
  }
 },
 "nbformat": 4,
 "nbformat_minor": 2
}
